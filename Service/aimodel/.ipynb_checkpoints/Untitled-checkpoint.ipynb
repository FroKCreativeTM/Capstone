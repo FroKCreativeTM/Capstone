{
 "cells": [
  {
   "cell_type": "code",
   "execution_count": 4,
   "id": "chinese-content",
   "metadata": {},
   "outputs": [],
   "source": [
    "import cv2\n",
    "import socketio\n",
    "import time\n",
    "from datetime import datetime"
   ]
  },
  {
   "cell_type": "code",
   "execution_count": null,
   "id": "color-ability",
   "metadata": {},
   "outputs": [],
   "source": [
    "def video_rec() : \n",
    "    # 비디오를 현재 장치로 불러오고, 이 비디오에 대한 설정을 한다.\n",
    "    cap = cv2.VideoCapture(0)\n",
    "    cap.set(cv2.CAP_PROP_FRAME_WIDTH, width)\n",
    "    cap.set(cv2.CAP_PROP_FRAME_HEIGHT, height)\n",
    "    \n",
    "    \n",
    "    fourcc = cv2.VideoWriter_fourcc(*'DIVX')\n",
    "    filename = \"./aimodel/movie/\" + now.strftime(\"%Y\") + \"_\" +     now.strftime(\"%m\") + \"_\" + now.strftime(\"%d\") + \"_\" + now.strftime(\"%H\") + \"_\" + now.strftime(\"%M\") + \"_\" + now.strftime(\"%S\") + \".avi\"\n",
    "    out = cv2.VideoWriter(filename, fourcc, fps, (int(width), int(height)))\n",
    "    "
   ]
  },
  {
   "cell_type": "code",
   "execution_count": null,
   "id": "juvenile-perception",
   "metadata": {},
   "outputs": [],
   "source": [
    "# 메인함수\n",
    "if __name__ == \"__main__\" : \n",
    "    # 클라이언트 생성\n",
    "    sio = socketio.Client()\n",
    "    # loop IP : \n",
    "    sio.connect('http://localhost:8001/')\n",
    "    # 비디오를 플레이한다.\n",
    "    video_rec()\n",
    "    # 통신 종료\n",
    "    sio.disconnect()"
   ]
  }
 ],
 "metadata": {
  "kernelspec": {
   "display_name": "Python 3",
   "language": "python",
   "name": "python3"
  },
  "language_info": {
   "codemirror_mode": {
    "name": "ipython",
    "version": 3
   },
   "file_extension": ".py",
   "mimetype": "text/x-python",
   "name": "python",
   "nbconvert_exporter": "python",
   "pygments_lexer": "ipython3",
   "version": "3.7.10"
  }
 },
 "nbformat": 4,
 "nbformat_minor": 5
}
