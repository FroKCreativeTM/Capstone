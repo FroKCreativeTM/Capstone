{
 "cells": [
  {
   "cell_type": "code",
   "execution_count": 10,
   "metadata": {},
   "outputs": [],
   "source": [
    "import cv2\n",
    "import time\n",
    "import base64\n",
    "import socketio\n",
    "import datetime"
   ]
  },
  {
   "cell_type": "code",
   "execution_count": 11,
   "metadata": {},
   "outputs": [],
   "source": [
    "fps = 30\n",
    "width = 640\n",
    "height = 480"
   ]
  },
  {
   "cell_type": "code",
   "execution_count": 12,
   "metadata": {},
   "outputs": [],
   "source": [
    "def video_play() : \n",
    "    # 기본 컨트롤 변수들\n",
    "    tickCount = 0\n",
    "    now = datetime.datetime.now()\n",
    "    \n",
    "    cap = cv2.VideoCapture(0)\n",
    "    cap.set(cv2.CAP_PROP_FRAME_WIDTH, width)\n",
    "    cap.set(cv2.CAP_PROP_FRAME_HEIGHT, height)\n",
    "    fourcc = cv2.VideoWriter_fourcc(*'DIVX')\n",
    "    \n",
    "    filename = now.strftime(\"%Y\") + \"_\" + \\\n",
    "    now.strftime(\"%m\") + \"_\" + now.strftime(\"%d\") + \"_\" + now.strftime(\"%H\") + \\\n",
    "    \"_\" + now.strftime(\"%M\") + \"_\" + now.strftime(\"%S\") + \".avi\"\n",
    "\n",
    "    out = cv2.VideoWriter(filename, fourcc, fps, (int(width), int(height)))\n",
    "\n",
    "    encode_param = [int(cv2.IMWRITE_JPEG_QUALITY), 90]\n",
    "\n",
    "    while True:\n",
    "        time.sleep(1 / fps)\n",
    "        if(tickCount > 1800) : \n",
    "            tickCount = 0\n",
    "\n",
    "            #저장 파일 종료\n",
    "            out.release()\n",
    "\n",
    "            now = datetime.datetime.now()\n",
    "            filename = now.strftime(\"%Y\") + \"_\" + \\\n",
    "            now.strftime(\"%m\") + \"_\" + now.strftime(\"%d\") + \"_\" + now.strftime(\"%H\") + \\\n",
    "            \"_\" + now.strftime(\"%M\") + \"_\" + now.strftime(\"%S\") + \".avi\"\n",
    "            out = cv2.VideoWriter(filename, fourcc, fps, (int(width), int(height)))\n",
    "\n",
    "        ret, frame = cap.read()\n",
    "        cv2.imshow('CCTV', frame)\n",
    "        out.write(frame)\n",
    "\n",
    "        result, frame = cv2.imencode('.jpg', frame, encode_param)\n",
    "        b64data = base64.b64encode(frame)\n",
    "        sio.emit('data', b64data)\n",
    "\n",
    "        tickCount += 1\n",
    "\n",
    "        if cv2.waitKey(1) > 0: \n",
    "            cv2.destroyAllWindows()\n",
    "            break"
   ]
  },
  {
   "cell_type": "code",
   "execution_count": 13,
   "metadata": {},
   "outputs": [],
   "source": [
    "# 메인 함수\n",
    "if __name__ == \"__main__\" : \n",
    "    sio = socketio.Client()\n",
    "    # loop IP : \n",
    "    sio.connect('http://127.0.0.1:3000')\n",
    "    # 비디오를 플레이한다.\n",
    "    video_play()\n",
    "    # 통신 종료\n",
    "    sio.disconnect()"
   ]
  }
 ],
 "metadata": {
  "kernelspec": {
   "display_name": "Python 3",
   "language": "python",
   "name": "python3"
  },
  "language_info": {
   "codemirror_mode": {
    "name": "ipython",
    "version": 3
   },
   "file_extension": ".py",
   "mimetype": "text/x-python",
   "name": "python",
   "nbconvert_exporter": "python",
   "pygments_lexer": "ipython3",
   "version": "3.7.10"
  }
 },
 "nbformat": 4,
 "nbformat_minor": 4
}
